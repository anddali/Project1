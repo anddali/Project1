{
 "metadata": {
  "name": "",
  "signature": "sha256:4894f61fffa40247ef3a0cef0d6f244235d91361ee49b5fb28ad14ee56783468"
 },
 "nbformat": 3,
 "nbformat_minor": 0,
 "worksheets": [
  {
   "cells": [
    {
     "cell_type": "code",
     "collapsed": false,
     "input": [
      "x=1\n",
      "print x"
     ],
     "language": "python",
     "metadata": {},
     "outputs": [
      {
       "output_type": "stream",
       "stream": "stdout",
       "text": [
        "1\n"
       ]
      }
     ],
     "prompt_number": 1
    },
    {
     "cell_type": "heading",
     "level": 1,
     "metadata": {},
     "source": [
      "asda"
     ]
    }
   ],
   "metadata": {}
  }
 ]
}