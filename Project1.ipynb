{
 "metadata": {
  "name": "",
  "signature": "sha256:1485ab94fe73c5bbc5fd9bd4456b66f41e3c1880e9e7d8f8fc0633c940ba6a48"
 },
 "nbformat": 3,
 "nbformat_minor": 0,
 "worksheets": [
  {
   "cells": [
    {
     "cell_type": "heading",
     "level": 1,
     "metadata": {},
     "source": [
      "Project 1: Analyzing the NYC Subway Dataset"
     ]
    },
    {
     "cell_type": "heading",
     "level": 2,
     "metadata": {},
     "source": [
      "Description"
     ]
    },
    {
     "cell_type": "markdown",
     "metadata": {},
     "source": [
      "In the project we will look at the New York City Subway data to figure out if more people ride the subway when it is raining versus when it is not raining.\n",
      "\n",
      "We will wrangle the subway data, use statistical methods and data visualisation to draw conclusions about the subway data set. The improved data set (https://www.dropbox.com/s/1lpoeh2w6px4diu/improved-dataset.zip?dl=0) which is available for this project will be used."
     ]
    },
    {
     "cell_type": "heading",
     "level": 2,
     "metadata": {},
     "source": [
      "Data Wrangling"
     ]
    },
    {
     "cell_type": "markdown",
     "metadata": {},
     "source": [
      "First we add the python libraries for the project"
     ]
    },
    {
     "cell_type": "code",
     "collapsed": false,
     "input": [
      "%matplotlib inline\n",
      "import pandas as pd\n",
      "import numpy as np\n",
      "from ggplot import *\n",
      "\n",
      "#import plotly.plotly as py\n",
      "#import plotly.tools as tls\n",
      "#from plotly.graph_objs import *\n",
      "#py.sign_in(\"andrius.dalisanskis\", \"hb0192kslq\")\n",
      "\n",
      "pd.options.display.max_columns = 50\n",
      "pd.options.mode.chained_assignment = None"
     ],
     "language": "python",
     "metadata": {},
     "outputs": [],
     "prompt_number": 2
    },
    {
     "cell_type": "heading",
     "level": 3,
     "metadata": {},
     "source": [
      "Loading the data set"
     ]
    },
    {
     "cell_type": "markdown",
     "metadata": {},
     "source": [
      "We will load the data set from the csv file into Pandas DataFrame instance."
     ]
    },
    {
     "cell_type": "code",
     "collapsed": false,
     "input": [
      "df = pd.read_csv('https://raw.githubusercontent.com/anddali/Project1/master/turnstile_weather_v2.csv')\n",
      "print \"Total rows in dataset:{0}, number of turnstiles:{1}\".format(len(df),len(df.UNIT.unique()))"
     ],
     "language": "python",
     "metadata": {},
     "outputs": [
      {
       "output_type": "stream",
       "stream": "stdout",
       "text": [
        "Total rows in dataset:42649, number of turnstiles:240\n"
       ]
      }
     ],
     "prompt_number": 3
    },
    {
     "cell_type": "heading",
     "level": 3,
     "metadata": {},
     "source": [
      "Analysis"
     ]
    },
    {
     "cell_type": "markdown",
     "metadata": {},
     "source": [
      "We will do some exploratory analysis of the loaded data set\n",
      "* Ridership distribution (ENTRIESn_hourly variable)"
     ]
    },
    {
     "cell_type": "heading",
     "level": 4,
     "metadata": {},
     "source": [
      "ENTRIESn_hourly distribution"
     ]
    },
    {
     "cell_type": "markdown",
     "metadata": {},
     "source": [
      "The ENTRIESn_hourly values are the number of entries since the last checking time on a given turnstile. The frequecy is every four hours."
     ]
    },
    {
     "cell_type": "code",
     "collapsed": false,
     "input": [
      "p = ggplot(df, aes(x='ENTRIESn_hourly')) + geom_histogram()+labs(\"Hourly entries\",\"Frequency\")+ggtitle(\"Ridership distribution\")\n",
      "print p"
     ],
     "language": "python",
     "metadata": {},
     "outputs": [
      {
       "metadata": {},
       "output_type": "display_data",
       "png": "[encoded data removed]",
       "text": [
        "<matplotlib.figure.Figure at 0x48ac9c50>"
       ]
      },
      {
       "output_type": "stream",
       "stream": "stdout",
       "text": [
        "<ggplot: (74360878)>\n"
       ]
      }
     ],
     "prompt_number": 17
    },
    {
     "cell_type": "markdown",
     "metadata": {},
     "source": [
      "As we can see the hourly entries distribution is not a normal distribution."
     ]
    }
   ],
   "metadata": {}
  }
 ]
}